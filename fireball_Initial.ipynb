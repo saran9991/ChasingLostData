{
 "cells": [
  {
   "cell_type": "code",
   "execution_count": 4,
   "metadata": {},
   "outputs": [],
   "source": [
    "import pandas as pd"
   ]
  },
  {
   "cell_type": "code",
   "execution_count": 5,
   "metadata": {},
   "outputs": [],
   "source": [
    "import os"
   ]
  },
  {
   "cell_type": "code",
   "execution_count": 6,
   "metadata": {},
   "outputs": [],
   "source": [
    "os.chdir(\"C:/Users/Intel/Desktop/ChasersOfLostData\")"
   ]
  },
  {
   "cell_type": "code",
   "execution_count": 7,
   "metadata": {},
   "outputs": [],
   "source": [
    "data=pd.read_csv(\"Fireball_And_Bolide_Reports.csv\")"
   ]
  },
  {
   "cell_type": "code",
   "execution_count": 8,
   "metadata": {},
   "outputs": [
    {
     "data": {
      "text/plain": [
       "Date/Time - Peak Brightness (UT)        object\n",
       "Latitude (Deg)                          object\n",
       "Longitude (Deg)                         object\n",
       "Altitude (km)                          float64\n",
       "Velocity (km/s)                        float64\n",
       "Velocity Components (km/s): vx         float64\n",
       "Velocity Components (km/s): vy         float64\n",
       "Velocity Components (km/s): vz         float64\n",
       "Total Radiated Energy (J)                int64\n",
       "Calculated Total Impact Energy (kt)    float64\n",
       "dtype: object"
      ]
     },
     "execution_count": 8,
     "metadata": {},
     "output_type": "execute_result"
    }
   ],
   "source": [
    "data.dtypes"
   ]
  },
  {
   "cell_type": "code",
   "execution_count": 9,
   "metadata": {},
   "outputs": [],
   "source": [
    "data1=data.dropna()"
   ]
  },
  {
   "cell_type": "code",
   "execution_count": 10,
   "metadata": {},
   "outputs": [],
   "source": [
    "import seaborn as sns"
   ]
  },
  {
   "cell_type": "code",
   "execution_count": 11,
   "metadata": {},
   "outputs": [],
   "source": [
    "import matplotlib.pyplot as plt"
   ]
  },
  {
   "cell_type": "code",
   "execution_count": 12,
   "metadata": {},
   "outputs": [],
   "source": [
    "data1=data1._get_numeric_data()"
   ]
  },
  {
   "cell_type": "code",
   "execution_count": 13,
   "metadata": {},
   "outputs": [
    {
     "data": {
      "text/html": [
       "<style  type=\"text/css\" >\n",
       "    #T_47a5e838_f287_11e9_a317_20474715a35brow0_col0 {\n",
       "            background-color:  #b40426;\n",
       "            color:  #f1f1f1;\n",
       "        }    #T_47a5e838_f287_11e9_a317_20474715a35brow0_col1 {\n",
       "            background-color:  #eb7d62;\n",
       "            color:  #000000;\n",
       "        }    #T_47a5e838_f287_11e9_a317_20474715a35brow0_col2 {\n",
       "            background-color:  #3b4cc0;\n",
       "            color:  #f1f1f1;\n",
       "        }    #T_47a5e838_f287_11e9_a317_20474715a35brow0_col3 {\n",
       "            background-color:  #b9d0f9;\n",
       "            color:  #000000;\n",
       "        }    #T_47a5e838_f287_11e9_a317_20474715a35brow0_col4 {\n",
       "            background-color:  #3b4cc0;\n",
       "            color:  #f1f1f1;\n",
       "        }    #T_47a5e838_f287_11e9_a317_20474715a35brow0_col5 {\n",
       "            background-color:  #5b7ae5;\n",
       "            color:  #000000;\n",
       "        }    #T_47a5e838_f287_11e9_a317_20474715a35brow0_col6 {\n",
       "            background-color:  #5e7de7;\n",
       "            color:  #000000;\n",
       "        }    #T_47a5e838_f287_11e9_a317_20474715a35brow1_col0 {\n",
       "            background-color:  #e8765c;\n",
       "            color:  #000000;\n",
       "        }    #T_47a5e838_f287_11e9_a317_20474715a35brow1_col1 {\n",
       "            background-color:  #b40426;\n",
       "            color:  #f1f1f1;\n",
       "        }    #T_47a5e838_f287_11e9_a317_20474715a35brow1_col2 {\n",
       "            background-color:  #536edd;\n",
       "            color:  #000000;\n",
       "        }    #T_47a5e838_f287_11e9_a317_20474715a35brow1_col3 {\n",
       "            background-color:  #3b4cc0;\n",
       "            color:  #f1f1f1;\n",
       "        }    #T_47a5e838_f287_11e9_a317_20474715a35brow1_col4 {\n",
       "            background-color:  #516ddb;\n",
       "            color:  #000000;\n",
       "        }    #T_47a5e838_f287_11e9_a317_20474715a35brow1_col5 {\n",
       "            background-color:  #92b4fe;\n",
       "            color:  #000000;\n",
       "        }    #T_47a5e838_f287_11e9_a317_20474715a35brow1_col6 {\n",
       "            background-color:  #97b8ff;\n",
       "            color:  #000000;\n",
       "        }    #T_47a5e838_f287_11e9_a317_20474715a35brow2_col0 {\n",
       "            background-color:  #85a8fc;\n",
       "            color:  #000000;\n",
       "        }    #T_47a5e838_f287_11e9_a317_20474715a35brow2_col1 {\n",
       "            background-color:  #86a9fc;\n",
       "            color:  #000000;\n",
       "        }    #T_47a5e838_f287_11e9_a317_20474715a35brow2_col2 {\n",
       "            background-color:  #b40426;\n",
       "            color:  #f1f1f1;\n",
       "        }    #T_47a5e838_f287_11e9_a317_20474715a35brow2_col3 {\n",
       "            background-color:  #6a8bef;\n",
       "            color:  #000000;\n",
       "        }    #T_47a5e838_f287_11e9_a317_20474715a35brow2_col4 {\n",
       "            background-color:  #b5cdfa;\n",
       "            color:  #000000;\n",
       "        }    #T_47a5e838_f287_11e9_a317_20474715a35brow2_col5 {\n",
       "            background-color:  #d9dce1;\n",
       "            color:  #000000;\n",
       "        }    #T_47a5e838_f287_11e9_a317_20474715a35brow2_col6 {\n",
       "            background-color:  #dddcdc;\n",
       "            color:  #000000;\n",
       "        }    #T_47a5e838_f287_11e9_a317_20474715a35brow3_col0 {\n",
       "            background-color:  #cbd8ee;\n",
       "            color:  #000000;\n",
       "        }    #T_47a5e838_f287_11e9_a317_20474715a35brow3_col1 {\n",
       "            background-color:  #3f53c6;\n",
       "            color:  #f1f1f1;\n",
       "        }    #T_47a5e838_f287_11e9_a317_20474715a35brow3_col2 {\n",
       "            background-color:  #3b4cc0;\n",
       "            color:  #f1f1f1;\n",
       "        }    #T_47a5e838_f287_11e9_a317_20474715a35brow3_col3 {\n",
       "            background-color:  #b40426;\n",
       "            color:  #f1f1f1;\n",
       "        }    #T_47a5e838_f287_11e9_a317_20474715a35brow3_col4 {\n",
       "            background-color:  #f5c4ac;\n",
       "            color:  #000000;\n",
       "        }    #T_47a5e838_f287_11e9_a317_20474715a35brow3_col5 {\n",
       "            background-color:  #3b4cc0;\n",
       "            color:  #f1f1f1;\n",
       "        }    #T_47a5e838_f287_11e9_a317_20474715a35brow3_col6 {\n",
       "            background-color:  #3b4cc0;\n",
       "            color:  #f1f1f1;\n",
       "        }    #T_47a5e838_f287_11e9_a317_20474715a35brow4_col0 {\n",
       "            background-color:  #3b4cc0;\n",
       "            color:  #f1f1f1;\n",
       "        }    #T_47a5e838_f287_11e9_a317_20474715a35brow4_col1 {\n",
       "            background-color:  #3b4cc0;\n",
       "            color:  #f1f1f1;\n",
       "        }    #T_47a5e838_f287_11e9_a317_20474715a35brow4_col2 {\n",
       "            background-color:  #7295f4;\n",
       "            color:  #000000;\n",
       "        }    #T_47a5e838_f287_11e9_a317_20474715a35brow4_col3 {\n",
       "            background-color:  #f0cdbb;\n",
       "            color:  #000000;\n",
       "        }    #T_47a5e838_f287_11e9_a317_20474715a35brow4_col4 {\n",
       "            background-color:  #b40426;\n",
       "            color:  #f1f1f1;\n",
       "        }    #T_47a5e838_f287_11e9_a317_20474715a35brow4_col5 {\n",
       "            background-color:  #bad0f8;\n",
       "            color:  #000000;\n",
       "        }    #T_47a5e838_f287_11e9_a317_20474715a35brow4_col6 {\n",
       "            background-color:  #bcd2f7;\n",
       "            color:  #000000;\n",
       "        }    #T_47a5e838_f287_11e9_a317_20474715a35brow5_col0 {\n",
       "            background-color:  #9ebeff;\n",
       "            color:  #000000;\n",
       "        }    #T_47a5e838_f287_11e9_a317_20474715a35brow5_col1 {\n",
       "            background-color:  #b6cefa;\n",
       "            color:  #000000;\n",
       "        }    #T_47a5e838_f287_11e9_a317_20474715a35brow5_col2 {\n",
       "            background-color:  #d6dce4;\n",
       "            color:  #000000;\n",
       "        }    #T_47a5e838_f287_11e9_a317_20474715a35brow5_col3 {\n",
       "            background-color:  #6384eb;\n",
       "            color:  #000000;\n",
       "        }    #T_47a5e838_f287_11e9_a317_20474715a35brow5_col4 {\n",
       "            background-color:  #e0dbd8;\n",
       "            color:  #000000;\n",
       "        }    #T_47a5e838_f287_11e9_a317_20474715a35brow5_col5 {\n",
       "            background-color:  #b40426;\n",
       "            color:  #f1f1f1;\n",
       "        }    #T_47a5e838_f287_11e9_a317_20474715a35brow5_col6 {\n",
       "            background-color:  #b40426;\n",
       "            color:  #f1f1f1;\n",
       "        }    #T_47a5e838_f287_11e9_a317_20474715a35brow6_col0 {\n",
       "            background-color:  #9dbdff;\n",
       "            color:  #000000;\n",
       "        }    #T_47a5e838_f287_11e9_a317_20474715a35brow6_col1 {\n",
       "            background-color:  #b9d0f9;\n",
       "            color:  #000000;\n",
       "        }    #T_47a5e838_f287_11e9_a317_20474715a35brow6_col2 {\n",
       "            background-color:  #d9dce1;\n",
       "            color:  #000000;\n",
       "        }    #T_47a5e838_f287_11e9_a317_20474715a35brow6_col3 {\n",
       "            background-color:  #5f7fe8;\n",
       "            color:  #000000;\n",
       "        }    #T_47a5e838_f287_11e9_a317_20474715a35brow6_col4 {\n",
       "            background-color:  #e0dbd8;\n",
       "            color:  #000000;\n",
       "        }    #T_47a5e838_f287_11e9_a317_20474715a35brow6_col5 {\n",
       "            background-color:  #b40426;\n",
       "            color:  #f1f1f1;\n",
       "        }    #T_47a5e838_f287_11e9_a317_20474715a35brow6_col6 {\n",
       "            background-color:  #b40426;\n",
       "            color:  #f1f1f1;\n",
       "        }</style><table id=\"T_47a5e838_f287_11e9_a317_20474715a35b\" ><thead>    <tr>        <th class=\"blank level0\" ></th>        <th class=\"col_heading level0 col0\" >Altitude (km)</th>        <th class=\"col_heading level0 col1\" >Velocity (km/s)</th>        <th class=\"col_heading level0 col2\" >Velocity Components (km/s): vx</th>        <th class=\"col_heading level0 col3\" >Velocity Components (km/s): vy</th>        <th class=\"col_heading level0 col4\" >Velocity Components (km/s): vz</th>        <th class=\"col_heading level0 col5\" >Total Radiated Energy (J)</th>        <th class=\"col_heading level0 col6\" >Calculated Total Impact Energy (kt)</th>    </tr></thead><tbody>\n",
       "                <tr>\n",
       "                        <th id=\"T_47a5e838_f287_11e9_a317_20474715a35blevel0_row0\" class=\"row_heading level0 row0\" >Altitude (km)</th>\n",
       "                        <td id=\"T_47a5e838_f287_11e9_a317_20474715a35brow0_col0\" class=\"data row0 col0\" >1</td>\n",
       "                        <td id=\"T_47a5e838_f287_11e9_a317_20474715a35brow0_col1\" class=\"data row0 col1\" >0.696699</td>\n",
       "                        <td id=\"T_47a5e838_f287_11e9_a317_20474715a35brow0_col2\" class=\"data row0 col2\" >-0.362779</td>\n",
       "                        <td id=\"T_47a5e838_f287_11e9_a317_20474715a35brow0_col3\" class=\"data row0 col3\" >-0.000883288</td>\n",
       "                        <td id=\"T_47a5e838_f287_11e9_a317_20474715a35brow0_col4\" class=\"data row0 col4\" >-0.770563</td>\n",
       "                        <td id=\"T_47a5e838_f287_11e9_a317_20474715a35brow0_col5\" class=\"data row0 col5\" >-0.244536</td>\n",
       "                        <td id=\"T_47a5e838_f287_11e9_a317_20474715a35brow0_col6\" class=\"data row0 col6\" >-0.24962</td>\n",
       "            </tr>\n",
       "            <tr>\n",
       "                        <th id=\"T_47a5e838_f287_11e9_a317_20474715a35blevel0_row1\" class=\"row_heading level0 row1\" >Velocity (km/s)</th>\n",
       "                        <td id=\"T_47a5e838_f287_11e9_a317_20474715a35brow1_col0\" class=\"data row1 col0\" >0.696699</td>\n",
       "                        <td id=\"T_47a5e838_f287_11e9_a317_20474715a35brow1_col1\" class=\"data row1 col1\" >1</td>\n",
       "                        <td id=\"T_47a5e838_f287_11e9_a317_20474715a35brow1_col2\" class=\"data row1 col2\" >-0.252502</td>\n",
       "                        <td id=\"T_47a5e838_f287_11e9_a317_20474715a35brow1_col3\" class=\"data row1 col3\" >-0.605191</td>\n",
       "                        <td id=\"T_47a5e838_f287_11e9_a317_20474715a35brow1_col4\" class=\"data row1 col4\" >-0.634172</td>\n",
       "                        <td id=\"T_47a5e838_f287_11e9_a317_20474715a35brow1_col5\" class=\"data row1 col5\" >-0.0282151</td>\n",
       "                        <td id=\"T_47a5e838_f287_11e9_a317_20474715a35brow1_col6\" class=\"data row1 col6\" >-0.0187988</td>\n",
       "            </tr>\n",
       "            <tr>\n",
       "                        <th id=\"T_47a5e838_f287_11e9_a317_20474715a35blevel0_row2\" class=\"row_heading level0 row2\" >Velocity Components (km/s): vx</th>\n",
       "                        <td id=\"T_47a5e838_f287_11e9_a317_20474715a35brow2_col0\" class=\"data row2 col0\" >-0.362779</td>\n",
       "                        <td id=\"T_47a5e838_f287_11e9_a317_20474715a35brow2_col1\" class=\"data row2 col1\" >-0.252502</td>\n",
       "                        <td id=\"T_47a5e838_f287_11e9_a317_20474715a35brow2_col2\" class=\"data row2 col2\" >1</td>\n",
       "                        <td id=\"T_47a5e838_f287_11e9_a317_20474715a35brow2_col3\" class=\"data row2 col3\" >-0.36113</td>\n",
       "                        <td id=\"T_47a5e838_f287_11e9_a317_20474715a35brow2_col4\" class=\"data row2 col4\" >-0.123717</td>\n",
       "                        <td id=\"T_47a5e838_f287_11e9_a317_20474715a35brow2_col5\" class=\"data row2 col5\" >0.285879</td>\n",
       "                        <td id=\"T_47a5e838_f287_11e9_a317_20474715a35brow2_col6\" class=\"data row2 col6\" >0.298557</td>\n",
       "            </tr>\n",
       "            <tr>\n",
       "                        <th id=\"T_47a5e838_f287_11e9_a317_20474715a35blevel0_row3\" class=\"row_heading level0 row3\" >Velocity Components (km/s): vy</th>\n",
       "                        <td id=\"T_47a5e838_f287_11e9_a317_20474715a35brow3_col0\" class=\"data row3 col0\" >-0.000883288</td>\n",
       "                        <td id=\"T_47a5e838_f287_11e9_a317_20474715a35brow3_col1\" class=\"data row3 col1\" >-0.605191</td>\n",
       "                        <td id=\"T_47a5e838_f287_11e9_a317_20474715a35brow3_col2\" class=\"data row3 col2\" >-0.36113</td>\n",
       "                        <td id=\"T_47a5e838_f287_11e9_a317_20474715a35brow3_col3\" class=\"data row3 col3\" >1</td>\n",
       "                        <td id=\"T_47a5e838_f287_11e9_a317_20474715a35brow3_col4\" class=\"data row3 col4\" >0.33768</td>\n",
       "                        <td id=\"T_47a5e838_f287_11e9_a317_20474715a35brow3_col5\" class=\"data row3 col5\" >-0.394473</td>\n",
       "                        <td id=\"T_47a5e838_f287_11e9_a317_20474715a35brow3_col6\" class=\"data row3 col6\" >-0.411177</td>\n",
       "            </tr>\n",
       "            <tr>\n",
       "                        <th id=\"T_47a5e838_f287_11e9_a317_20474715a35blevel0_row4\" class=\"row_heading level0 row4\" >Velocity Components (km/s): vz</th>\n",
       "                        <td id=\"T_47a5e838_f287_11e9_a317_20474715a35brow4_col0\" class=\"data row4 col0\" >-0.770563</td>\n",
       "                        <td id=\"T_47a5e838_f287_11e9_a317_20474715a35brow4_col1\" class=\"data row4 col1\" >-0.634172</td>\n",
       "                        <td id=\"T_47a5e838_f287_11e9_a317_20474715a35brow4_col2\" class=\"data row4 col2\" >-0.123717</td>\n",
       "                        <td id=\"T_47a5e838_f287_11e9_a317_20474715a35brow4_col3\" class=\"data row4 col3\" >0.33768</td>\n",
       "                        <td id=\"T_47a5e838_f287_11e9_a317_20474715a35brow4_col4\" class=\"data row4 col4\" >1</td>\n",
       "                        <td id=\"T_47a5e838_f287_11e9_a317_20474715a35brow4_col5\" class=\"data row4 col5\" >0.138341</td>\n",
       "                        <td id=\"T_47a5e838_f287_11e9_a317_20474715a35brow4_col6\" class=\"data row4 col6\" >0.137336</td>\n",
       "            </tr>\n",
       "            <tr>\n",
       "                        <th id=\"T_47a5e838_f287_11e9_a317_20474715a35blevel0_row5\" class=\"row_heading level0 row5\" >Total Radiated Energy (J)</th>\n",
       "                        <td id=\"T_47a5e838_f287_11e9_a317_20474715a35brow5_col0\" class=\"data row5 col0\" >-0.244536</td>\n",
       "                        <td id=\"T_47a5e838_f287_11e9_a317_20474715a35brow5_col1\" class=\"data row5 col1\" >-0.0282151</td>\n",
       "                        <td id=\"T_47a5e838_f287_11e9_a317_20474715a35brow5_col2\" class=\"data row5 col2\" >0.285879</td>\n",
       "                        <td id=\"T_47a5e838_f287_11e9_a317_20474715a35brow5_col3\" class=\"data row5 col3\" >-0.394473</td>\n",
       "                        <td id=\"T_47a5e838_f287_11e9_a317_20474715a35brow5_col4\" class=\"data row5 col4\" >0.138341</td>\n",
       "                        <td id=\"T_47a5e838_f287_11e9_a317_20474715a35brow5_col5\" class=\"data row5 col5\" >1</td>\n",
       "                        <td id=\"T_47a5e838_f287_11e9_a317_20474715a35brow5_col6\" class=\"data row5 col6\" >0.999695</td>\n",
       "            </tr>\n",
       "            <tr>\n",
       "                        <th id=\"T_47a5e838_f287_11e9_a317_20474715a35blevel0_row6\" class=\"row_heading level0 row6\" >Calculated Total Impact Energy (kt)</th>\n",
       "                        <td id=\"T_47a5e838_f287_11e9_a317_20474715a35brow6_col0\" class=\"data row6 col0\" >-0.24962</td>\n",
       "                        <td id=\"T_47a5e838_f287_11e9_a317_20474715a35brow6_col1\" class=\"data row6 col1\" >-0.0187988</td>\n",
       "                        <td id=\"T_47a5e838_f287_11e9_a317_20474715a35brow6_col2\" class=\"data row6 col2\" >0.298557</td>\n",
       "                        <td id=\"T_47a5e838_f287_11e9_a317_20474715a35brow6_col3\" class=\"data row6 col3\" >-0.411177</td>\n",
       "                        <td id=\"T_47a5e838_f287_11e9_a317_20474715a35brow6_col4\" class=\"data row6 col4\" >0.137336</td>\n",
       "                        <td id=\"T_47a5e838_f287_11e9_a317_20474715a35brow6_col5\" class=\"data row6 col5\" >0.999695</td>\n",
       "                        <td id=\"T_47a5e838_f287_11e9_a317_20474715a35brow6_col6\" class=\"data row6 col6\" >1</td>\n",
       "            </tr>\n",
       "    </tbody></table>"
      ],
      "text/plain": [
       "<pandas.io.formats.style.Styler at 0x3fb432dc88>"
      ]
     },
     "execution_count": 13,
     "metadata": {},
     "output_type": "execute_result"
    }
   ],
   "source": [
    "df = data1\n",
    "corr = df.corr()\n",
    "corr.style.background_gradient(cmap='coolwarm')\n"
   ]
  },
  {
   "cell_type": "code",
   "execution_count": 25,
   "metadata": {},
   "outputs": [],
   "source": [
    "y=data1[data1.columns[-1]]"
   ]
  },
  {
   "cell_type": "code",
   "execution_count": 26,
   "metadata": {},
   "outputs": [
    {
     "data": {
      "text/html": [
       "<div>\n",
       "<style scoped>\n",
       "    .dataframe tbody tr th:only-of-type {\n",
       "        vertical-align: middle;\n",
       "    }\n",
       "\n",
       "    .dataframe tbody tr th {\n",
       "        vertical-align: top;\n",
       "    }\n",
       "\n",
       "    .dataframe thead th {\n",
       "        text-align: right;\n",
       "    }\n",
       "</style>\n",
       "<table border=\"1\" class=\"dataframe\">\n",
       "  <thead>\n",
       "    <tr style=\"text-align: right;\">\n",
       "      <th></th>\n",
       "      <th>Altitude (km)</th>\n",
       "      <th>Velocity (km/s)</th>\n",
       "      <th>Velocity Components (km/s): vx</th>\n",
       "      <th>Velocity Components (km/s): vy</th>\n",
       "      <th>Velocity Components (km/s): vz</th>\n",
       "      <th>Total Radiated Energy (J)</th>\n",
       "    </tr>\n",
       "  </thead>\n",
       "  <tbody>\n",
       "    <tr>\n",
       "      <th>0</th>\n",
       "      <td>38.0</td>\n",
       "      <td>32.1</td>\n",
       "      <td>3.0</td>\n",
       "      <td>-17.0</td>\n",
       "      <td>-27.0</td>\n",
       "      <td>10000000000000</td>\n",
       "    </tr>\n",
       "    <tr>\n",
       "      <th>3</th>\n",
       "      <td>22.2</td>\n",
       "      <td>16.2</td>\n",
       "      <td>-2.3</td>\n",
       "      <td>5.7</td>\n",
       "      <td>16.5</td>\n",
       "      <td>3820000000000</td>\n",
       "    </tr>\n",
       "    <tr>\n",
       "      <th>14</th>\n",
       "      <td>26.0</td>\n",
       "      <td>18.1</td>\n",
       "      <td>18.0</td>\n",
       "      <td>-2.0</td>\n",
       "      <td>-4.0</td>\n",
       "      <td>20000000000000</td>\n",
       "    </tr>\n",
       "    <tr>\n",
       "      <th>23</th>\n",
       "      <td>23.3</td>\n",
       "      <td>18.6</td>\n",
       "      <td>12.8</td>\n",
       "      <td>-13.3</td>\n",
       "      <td>-2.4</td>\n",
       "      <td>375000000000000</td>\n",
       "    </tr>\n",
       "    <tr>\n",
       "      <th>25</th>\n",
       "      <td>19.1</td>\n",
       "      <td>19.2</td>\n",
       "      <td>14.0</td>\n",
       "      <td>-16.0</td>\n",
       "      <td>-6.0</td>\n",
       "      <td>20000000000000</td>\n",
       "    </tr>\n",
       "    <tr>\n",
       "      <th>26</th>\n",
       "      <td>26.3</td>\n",
       "      <td>12.4</td>\n",
       "      <td>12.0</td>\n",
       "      <td>3.5</td>\n",
       "      <td>-10.5</td>\n",
       "      <td>245000000000</td>\n",
       "    </tr>\n",
       "    <tr>\n",
       "      <th>47</th>\n",
       "      <td>30.8</td>\n",
       "      <td>18.0</td>\n",
       "      <td>2.9</td>\n",
       "      <td>13.4</td>\n",
       "      <td>-12.5</td>\n",
       "      <td>136000000000</td>\n",
       "    </tr>\n",
       "  </tbody>\n",
       "</table>\n",
       "</div>"
      ],
      "text/plain": [
       "    Altitude (km)  Velocity (km/s)  Velocity Components (km/s): vx  \\\n",
       "0            38.0             32.1                             3.0   \n",
       "3            22.2             16.2                            -2.3   \n",
       "14           26.0             18.1                            18.0   \n",
       "23           23.3             18.6                            12.8   \n",
       "25           19.1             19.2                            14.0   \n",
       "26           26.3             12.4                            12.0   \n",
       "47           30.8             18.0                             2.9   \n",
       "\n",
       "    Velocity Components (km/s): vy  Velocity Components (km/s): vz  \\\n",
       "0                            -17.0                           -27.0   \n",
       "3                              5.7                            16.5   \n",
       "14                            -2.0                            -4.0   \n",
       "23                           -13.3                            -2.4   \n",
       "25                           -16.0                            -6.0   \n",
       "26                             3.5                           -10.5   \n",
       "47                            13.4                           -12.5   \n",
       "\n",
       "    Total Radiated Energy (J)  \n",
       "0              10000000000000  \n",
       "3               3820000000000  \n",
       "14             20000000000000  \n",
       "23            375000000000000  \n",
       "25             20000000000000  \n",
       "26               245000000000  \n",
       "47               136000000000  "
      ]
     },
     "execution_count": 26,
     "metadata": {},
     "output_type": "execute_result"
    }
   ],
   "source": [
    "b=data1.iloc[:,:-1]\n",
    "b"
   ]
  },
  {
   "cell_type": "code",
   "execution_count": 27,
   "metadata": {},
   "outputs": [],
   "source": [
    "from sklearn.model_selection import train_test_split"
   ]
  },
  {
   "cell_type": "code",
   "execution_count": 28,
   "metadata": {},
   "outputs": [],
   "source": [
    "Xtrain, Xtest, ytrain, ytest = train_test_split(b, y, test_size=0.3)"
   ]
  },
  {
   "cell_type": "code",
   "execution_count": 29,
   "metadata": {},
   "outputs": [],
   "source": [
    "from sklearn import linear_model"
   ]
  },
  {
   "cell_type": "code",
   "execution_count": 30,
   "metadata": {},
   "outputs": [],
   "source": [
    "from sklearn import datasets"
   ]
  },
  {
   "cell_type": "code",
   "execution_count": 31,
   "metadata": {},
   "outputs": [],
   "source": [
    "lm = linear_model.LinearRegression()\n",
    "model = lm.fit(Xtrain, ytrain)\n",
    "predictions = lm.predict(Xtest)"
   ]
  },
  {
   "cell_type": "code",
   "execution_count": 32,
   "metadata": {},
   "outputs": [
    {
     "name": "stdout",
     "output_type": "stream",
     "text": [
      "Score:  0.7461464563188658\n"
     ]
    }
   ],
   "source": [
    "print (\"Score: \", model.score(Xtest, ytest))"
   ]
  },
  {
   "cell_type": "code",
   "execution_count": 33,
   "metadata": {},
   "outputs": [
    {
     "data": {
      "text/html": [
       "<div>\n",
       "<style scoped>\n",
       "    .dataframe tbody tr th:only-of-type {\n",
       "        vertical-align: middle;\n",
       "    }\n",
       "\n",
       "    .dataframe tbody tr th {\n",
       "        vertical-align: top;\n",
       "    }\n",
       "\n",
       "    .dataframe thead th {\n",
       "        text-align: right;\n",
       "    }\n",
       "</style>\n",
       "<table border=\"1\" class=\"dataframe\">\n",
       "  <thead>\n",
       "    <tr style=\"text-align: right;\">\n",
       "      <th></th>\n",
       "      <th>Actual</th>\n",
       "      <th>Predicted</th>\n",
       "    </tr>\n",
       "  </thead>\n",
       "  <tbody>\n",
       "    <tr>\n",
       "      <th>3</th>\n",
       "      <td>7.6</td>\n",
       "      <td>5.958800</td>\n",
       "    </tr>\n",
       "    <tr>\n",
       "      <th>25</th>\n",
       "      <td>33.0</td>\n",
       "      <td>33.438875</td>\n",
       "    </tr>\n",
       "    <tr>\n",
       "      <th>23</th>\n",
       "      <td>440.0</td>\n",
       "      <td>612.885935</td>\n",
       "    </tr>\n",
       "  </tbody>\n",
       "</table>\n",
       "</div>"
      ],
      "text/plain": [
       "    Actual   Predicted\n",
       "3      7.6    5.958800\n",
       "25    33.0   33.438875\n",
       "23   440.0  612.885935"
      ]
     },
     "execution_count": 33,
     "metadata": {},
     "output_type": "execute_result"
    }
   ],
   "source": [
    "df = pd.DataFrame({'Actual': ytest, 'Predicted': predictions})\n",
    "df"
   ]
  }
 ],
 "metadata": {
  "kernelspec": {
   "display_name": "Python 3",
   "language": "python",
   "name": "python3"
  },
  "language_info": {
   "codemirror_mode": {
    "name": "ipython",
    "version": 3
   },
   "file_extension": ".py",
   "mimetype": "text/x-python",
   "name": "python",
   "nbconvert_exporter": "python",
   "pygments_lexer": "ipython3",
   "version": "3.7.3"
  }
 },
 "nbformat": 4,
 "nbformat_minor": 2
}
